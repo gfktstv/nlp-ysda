{
 "cells": [
  {
   "cell_type": "code",
   "execution_count": 1,
   "metadata": {},
   "outputs": [],
   "source": [
    "import numpy as np\n",
    "import matplotlib.pyplot as plt\n",
    "%matplotlib inline"
   ]
  },
  {
   "cell_type": "markdown",
   "metadata": {},
   "source": [
    "### Homework part I: Prohibited Comment Classification (3 points)\n",
    "\n",
    "![img](https://github.com/yandexdataschool/nlp_course/raw/master/resources/banhammer.jpg)\n",
    "\n",
    "__In this notebook__ you will build an algorithm that classifies social media comments into normal or toxic.\n",
    "Like in many real-world cases, you only have a small (10^3) dataset of hand-labeled examples to work with. We'll tackle this problem using both classical nlp methods and embedding-based approach."
   ]
  },
  {
   "cell_type": "code",
   "execution_count": 2,
   "metadata": {},
   "outputs": [
    {
     "data": {
      "text/html": [
       "<div>\n",
       "<style scoped>\n",
       "    .dataframe tbody tr th:only-of-type {\n",
       "        vertical-align: middle;\n",
       "    }\n",
       "\n",
       "    .dataframe tbody tr th {\n",
       "        vertical-align: top;\n",
       "    }\n",
       "\n",
       "    .dataframe thead th {\n",
       "        text-align: right;\n",
       "    }\n",
       "</style>\n",
       "<table border=\"1\" class=\"dataframe\">\n",
       "  <thead>\n",
       "    <tr style=\"text-align: right;\">\n",
       "      <th></th>\n",
       "      <th>should_ban</th>\n",
       "      <th>comment_text</th>\n",
       "    </tr>\n",
       "  </thead>\n",
       "  <tbody>\n",
       "    <tr>\n",
       "      <th>50</th>\n",
       "      <td>0</td>\n",
       "      <td>\"Those who're in advantageous positions are th...</td>\n",
       "    </tr>\n",
       "    <tr>\n",
       "      <th>250</th>\n",
       "      <td>1</td>\n",
       "      <td>Fartsalot56 says f**k you motherclucker!!</td>\n",
       "    </tr>\n",
       "    <tr>\n",
       "      <th>450</th>\n",
       "      <td>1</td>\n",
       "      <td>Are you a fool? \\n\\nI am sorry, but you seem t...</td>\n",
       "    </tr>\n",
       "    <tr>\n",
       "      <th>650</th>\n",
       "      <td>1</td>\n",
       "      <td>I AM NOT A VANDAL!!!!!!!!!!!!!!!!!!!!!!!!!!!!!!</td>\n",
       "    </tr>\n",
       "    <tr>\n",
       "      <th>850</th>\n",
       "      <td>0</td>\n",
       "      <td>Citing sources\\n\\nCheck out the Wikipedia:Citi...</td>\n",
       "    </tr>\n",
       "  </tbody>\n",
       "</table>\n",
       "</div>"
      ],
      "text/plain": [
       "     should_ban                                       comment_text\n",
       "50            0  \"Those who're in advantageous positions are th...\n",
       "250           1          Fartsalot56 says f**k you motherclucker!!\n",
       "450           1  Are you a fool? \\n\\nI am sorry, but you seem t...\n",
       "650           1    I AM NOT A VANDAL!!!!!!!!!!!!!!!!!!!!!!!!!!!!!!\n",
       "850           0  Citing sources\\n\\nCheck out the Wikipedia:Citi..."
      ]
     },
     "execution_count": 2,
     "metadata": {},
     "output_type": "execute_result"
    }
   ],
   "source": [
    "import pandas as pd\n",
    "data = pd.read_csv(\"comments.tsv\", sep='\\t')\n",
    "\n",
    "texts = data['comment_text'].values\n",
    "target = data['should_ban'].values\n",
    "data[50::200]"
   ]
  },
  {
   "cell_type": "code",
   "execution_count": 4,
   "metadata": {},
   "outputs": [
    {
     "name": "stdout",
     "output_type": "stream",
     "text": [
      "Collecting scikit-learnNote: you may need to restart the kernel to use updated packages.\n"
     ]
    },
    {
     "name": "stderr",
     "output_type": "stream",
     "text": [
      "\n",
      "[notice] A new release of pip is available: 24.0 -> 24.3.1\n",
      "[notice] To update, run: python.exe -m pip install --upgrade pip\n"
     ]
    },
    {
     "name": "stdout",
     "output_type": "stream",
     "text": [
      "\n",
      "  Downloading scikit_learn-1.5.2-cp312-cp312-win_amd64.whl.metadata (13 kB)\n",
      "Requirement already satisfied: numpy>=1.19.5 in c:\\users\\gfktstv\\appdata\\local\\programs\\python\\python312\\lib\\site-packages (from scikit-learn) (2.1.1)\n",
      "Collecting scipy>=1.6.0 (from scikit-learn)\n",
      "  Downloading scipy-1.14.1-cp312-cp312-win_amd64.whl.metadata (60 kB)\n",
      "     ---------------------------------------- 0.0/60.8 kB ? eta -:--:--\n",
      "     ---------------------------------------- 0.0/60.8 kB ? eta -:--:--\n",
      "     ------ --------------------------------- 10.2/60.8 kB ? eta -:--:--\n",
      "     ------ --------------------------------- 10.2/60.8 kB ? eta -:--:--\n",
      "     ------------------- ------------------ 30.7/60.8 kB 262.6 kB/s eta 0:00:01\n",
      "     -------------------------------------- 60.8/60.8 kB 361.0 kB/s eta 0:00:00\n",
      "Collecting joblib>=1.2.0 (from scikit-learn)\n",
      "  Downloading joblib-1.4.2-py3-none-any.whl.metadata (5.4 kB)\n",
      "Collecting threadpoolctl>=3.1.0 (from scikit-learn)\n",
      "  Downloading threadpoolctl-3.5.0-py3-none-any.whl.metadata (13 kB)\n",
      "Downloading scikit_learn-1.5.2-cp312-cp312-win_amd64.whl (11.0 MB)\n",
      "   ---------------------------------------- 0.0/11.0 MB ? eta -:--:--\n",
      "   ---------------------------------------- 0.1/11.0 MB 1.6 MB/s eta 0:00:07\n",
      "   ---------------------------------------- 0.1/11.0 MB 777.7 kB/s eta 0:00:15\n",
      "    --------------------------------------- 0.2/11.0 MB 1.5 MB/s eta 0:00:08\n",
      "    --------------------------------------- 0.2/11.0 MB 1.1 MB/s eta 0:00:10\n",
      "   - -------------------------------------- 0.5/11.0 MB 2.0 MB/s eta 0:00:06\n",
      "   - -------------------------------------- 0.5/11.0 MB 1.8 MB/s eta 0:00:06\n",
      "   --- ------------------------------------ 0.9/11.0 MB 3.0 MB/s eta 0:00:04\n",
      "   --- ------------------------------------ 1.0/11.0 MB 2.9 MB/s eta 0:00:04\n",
      "   ------ --------------------------------- 1.7/11.0 MB 4.1 MB/s eta 0:00:03\n",
      "   ------- -------------------------------- 2.1/11.0 MB 4.6 MB/s eta 0:00:02\n",
      "   --------- ------------------------------ 2.5/11.0 MB 5.1 MB/s eta 0:00:02\n",
      "   ----------- ---------------------------- 3.3/11.0 MB 5.9 MB/s eta 0:00:02\n",
      "   ------------- -------------------------- 3.7/11.0 MB 6.4 MB/s eta 0:00:02\n",
      "   --------------- ------------------------ 4.4/11.0 MB 6.8 MB/s eta 0:00:01\n",
      "   ----------------- ---------------------- 4.9/11.0 MB 7.3 MB/s eta 0:00:01\n",
      "   -------------------- ------------------- 5.6/11.0 MB 7.8 MB/s eta 0:00:01\n",
      "   ----------------------- ---------------- 6.3/11.0 MB 8.2 MB/s eta 0:00:01\n",
      "   ------------------------- -------------- 7.0/11.0 MB 8.6 MB/s eta 0:00:01\n",
      "   -------------------------- ------------- 7.2/11.0 MB 8.7 MB/s eta 0:00:01\n",
      "   -------------------------- ------------- 7.2/11.0 MB 8.7 MB/s eta 0:00:01\n",
      "   --------------------------- ------------ 7.7/11.0 MB 8.0 MB/s eta 0:00:01\n",
      "   --------------------------- ------------ 7.7/11.0 MB 8.0 MB/s eta 0:00:01\n",
      "   --------------------------- ------------ 7.7/11.0 MB 8.0 MB/s eta 0:00:01\n",
      "   --------------------------- ------------ 7.7/11.0 MB 8.0 MB/s eta 0:00:01\n",
      "   ---------------------------- ----------- 8.0/11.0 MB 7.1 MB/s eta 0:00:01\n",
      "   ------------------------------------ --- 10.1/11.0 MB 8.6 MB/s eta 0:00:01\n",
      "   ------------------------------------- -- 10.3/11.0 MB 8.5 MB/s eta 0:00:01\n",
      "   -------------------------------------- - 10.6/11.0 MB 9.8 MB/s eta 0:00:01\n",
      "   ---------------------------------------  10.8/11.0 MB 10.1 MB/s eta 0:00:01\n",
      "   ---------------------------------------  11.0/11.0 MB 9.9 MB/s eta 0:00:01\n",
      "   ---------------------------------------- 11.0/11.0 MB 9.5 MB/s eta 0:00:00\n",
      "Downloading joblib-1.4.2-py3-none-any.whl (301 kB)\n",
      "   ---------------------------------------- 0.0/301.8 kB ? eta -:--:--\n",
      "   ---------------------------------------- 301.8/301.8 kB 6.2 MB/s eta 0:00:00\n",
      "Downloading scipy-1.14.1-cp312-cp312-win_amd64.whl (44.5 MB)\n",
      "   ---------------------------------------- 0.0/44.5 MB ? eta -:--:--\n",
      "    --------------------------------------- 0.6/44.5 MB 17.6 MB/s eta 0:00:03\n",
      "   - -------------------------------------- 1.3/44.5 MB 16.2 MB/s eta 0:00:03\n",
      "   - -------------------------------------- 2.0/44.5 MB 16.2 MB/s eta 0:00:03\n",
      "   -- ------------------------------------- 2.7/44.5 MB 15.9 MB/s eta 0:00:03\n",
      "   --- ------------------------------------ 3.5/44.5 MB 15.7 MB/s eta 0:00:03\n",
      "   --- ------------------------------------ 4.1/44.5 MB 15.4 MB/s eta 0:00:03\n",
      "   ---- ----------------------------------- 4.9/44.5 MB 15.6 MB/s eta 0:00:03\n",
      "   ----- ---------------------------------- 5.6/44.5 MB 15.6 MB/s eta 0:00:03\n",
      "   ----- ---------------------------------- 6.3/44.5 MB 15.4 MB/s eta 0:00:03\n",
      "   ------ --------------------------------- 7.0/44.5 MB 15.3 MB/s eta 0:00:03\n",
      "   ------ --------------------------------- 7.6/44.5 MB 15.2 MB/s eta 0:00:03\n",
      "   ------- -------------------------------- 8.4/44.5 MB 15.7 MB/s eta 0:00:03\n",
      "   -------- ------------------------------- 9.0/44.5 MB 15.5 MB/s eta 0:00:03\n",
      "   -------- ------------------------------- 9.0/44.5 MB 15.5 MB/s eta 0:00:03\n",
      "   -------- ------------------------------- 9.0/44.5 MB 15.5 MB/s eta 0:00:03\n",
      "   -------- ------------------------------- 9.0/44.5 MB 15.5 MB/s eta 0:00:03\n",
      "   -------- ------------------------------- 9.0/44.5 MB 15.5 MB/s eta 0:00:03\n",
      "   -------- ------------------------------- 9.0/44.5 MB 15.5 MB/s eta 0:00:03\n",
      "   -------- ------------------------------- 9.0/44.5 MB 15.5 MB/s eta 0:00:03\n",
      "   --------- ------------------------------ 10.6/44.5 MB 11.5 MB/s eta 0:00:03\n",
      "   --------- ------------------------------ 10.6/44.5 MB 11.5 MB/s eta 0:00:03\n",
      "   ---------- ----------------------------- 12.0/44.5 MB 11.5 MB/s eta 0:00:03\n",
      "   ------------ --------------------------- 14.5/44.5 MB 13.6 MB/s eta 0:00:03\n",
      "   ------------ --------------------------- 14.5/44.5 MB 13.6 MB/s eta 0:00:03\n",
      "   ------------ --------------------------- 14.5/44.5 MB 13.6 MB/s eta 0:00:03\n",
      "   ------------ --------------------------- 14.5/44.5 MB 13.6 MB/s eta 0:00:03\n",
      "   -------------- ------------------------- 16.5/44.5 MB 12.6 MB/s eta 0:00:03\n",
      "   --------------- ------------------------ 17.6/44.5 MB 13.1 MB/s eta 0:00:03\n",
      "   ---------------- ----------------------- 18.4/44.5 MB 13.1 MB/s eta 0:00:02\n",
      "   ----------------- ---------------------- 19.0/44.5 MB 12.8 MB/s eta 0:00:02\n",
      "   ----------------- ---------------------- 19.7/44.5 MB 19.8 MB/s eta 0:00:02\n",
      "   ------------------ --------------------- 20.5/44.5 MB 18.2 MB/s eta 0:00:02\n",
      "   ------------------ --------------------- 21.1/44.5 MB 19.9 MB/s eta 0:00:02\n",
      "   ------------------- -------------------- 21.8/44.5 MB 18.2 MB/s eta 0:00:02\n",
      "   -------------------- ------------------- 22.5/44.5 MB 17.2 MB/s eta 0:00:02\n",
      "   -------------------- ------------------- 23.2/44.5 MB 16.0 MB/s eta 0:00:02\n",
      "   --------------------- ------------------ 23.9/44.5 MB 14.9 MB/s eta 0:00:02\n",
      "   ---------------------- ----------------- 24.5/44.5 MB 14.6 MB/s eta 0:00:02\n",
      "   ---------------------- ----------------- 25.2/44.5 MB 17.7 MB/s eta 0:00:02\n",
      "   ----------------------- ---------------- 25.8/44.5 MB 16.8 MB/s eta 0:00:02\n",
      "   ----------------------- ---------------- 26.4/44.5 MB 15.6 MB/s eta 0:00:02\n",
      "   ------------------------ --------------- 27.0/44.5 MB 14.9 MB/s eta 0:00:02\n",
      "   ------------------------ --------------- 27.6/44.5 MB 14.2 MB/s eta 0:00:02\n",
      "   ------------------------- -------------- 28.1/44.5 MB 14.2 MB/s eta 0:00:02\n",
      "   ------------------------- -------------- 28.8/44.5 MB 13.9 MB/s eta 0:00:02\n",
      "   -------------------------- ------------- 29.3/44.5 MB 13.9 MB/s eta 0:00:02\n",
      "   -------------------------- ------------- 29.8/44.5 MB 13.6 MB/s eta 0:00:02\n",
      "   --------------------------- ------------ 30.4/44.5 MB 13.4 MB/s eta 0:00:02\n",
      "   --------------------------- ------------ 30.8/44.5 MB 13.1 MB/s eta 0:00:02\n",
      "   ---------------------------- ----------- 31.4/44.5 MB 13.4 MB/s eta 0:00:01\n",
      "   ---------------------------- ----------- 31.9/44.5 MB 12.8 MB/s eta 0:00:01\n",
      "   ----------------------------- ---------- 32.5/44.5 MB 12.8 MB/s eta 0:00:01\n",
      "   ----------------------------- ---------- 33.0/44.5 MB 12.6 MB/s eta 0:00:01\n",
      "   ------------------------------ --------- 33.7/44.5 MB 12.6 MB/s eta 0:00:01\n",
      "   ------------------------------ --------- 34.4/44.5 MB 12.6 MB/s eta 0:00:01\n",
      "   ------------------------------- -------- 35.1/44.5 MB 12.3 MB/s eta 0:00:01\n",
      "   -------------------------------- ------- 35.7/44.5 MB 12.6 MB/s eta 0:00:01\n",
      "   -------------------------------- ------- 35.9/44.5 MB 12.6 MB/s eta 0:00:01\n",
      "   -------------------------------- ------- 35.9/44.5 MB 12.6 MB/s eta 0:00:01\n",
      "   -------------------------------- ------- 35.9/44.5 MB 12.6 MB/s eta 0:00:01\n",
      "   -------------------------------- ------- 35.9/44.5 MB 12.6 MB/s eta 0:00:01\n",
      "   ---------------------------------- ----- 38.3/44.5 MB 12.3 MB/s eta 0:00:01\n",
      "   ---------------------------------- ----- 38.9/44.5 MB 12.6 MB/s eta 0:00:01\n",
      "   ----------------------------------- ---- 39.2/44.5 MB 12.4 MB/s eta 0:00:01\n",
      "   ----------------------------------- ---- 39.8/44.5 MB 12.3 MB/s eta 0:00:01\n",
      "   ------------------------------------ --- 40.2/44.5 MB 12.4 MB/s eta 0:00:01\n",
      "   ------------------------------------ --- 40.2/44.5 MB 12.4 MB/s eta 0:00:01\n",
      "   ------------------------------------ --- 40.2/44.5 MB 12.4 MB/s eta 0:00:01\n",
      "   ------------------------------------ --- 40.6/44.5 MB 11.3 MB/s eta 0:00:01\n",
      "   ------------------------------------- -- 42.1/44.5 MB 12.1 MB/s eta 0:00:01\n",
      "   ------------------------------------- -- 42.1/44.5 MB 11.9 MB/s eta 0:00:01\n",
      "   -------------------------------------- - 42.5/44.5 MB 11.7 MB/s eta 0:00:01\n",
      "   -------------------------------------- - 43.0/44.5 MB 11.7 MB/s eta 0:00:01\n",
      "   -------------------------------------- - 43.3/44.5 MB 11.3 MB/s eta 0:00:01\n",
      "   ---------------------------------------  43.8/44.5 MB 11.1 MB/s eta 0:00:01\n",
      "   ---------------------------------------  44.2/44.5 MB 10.9 MB/s eta 0:00:01\n",
      "   ---------------------------------------  44.5/44.5 MB 10.7 MB/s eta 0:00:01\n",
      "   ---------------------------------------  44.5/44.5 MB 10.7 MB/s eta 0:00:01\n",
      "   ---------------------------------------  44.5/44.5 MB 10.7 MB/s eta 0:00:01\n",
      "   ---------------------------------------- 44.5/44.5 MB 9.9 MB/s eta 0:00:00\n",
      "Downloading threadpoolctl-3.5.0-py3-none-any.whl (18 kB)\n",
      "Installing collected packages: threadpoolctl, scipy, joblib, scikit-learn\n",
      "Successfully installed joblib-1.4.2 scikit-learn-1.5.2 scipy-1.14.1 threadpoolctl-3.5.0\n"
     ]
    }
   ],
   "source": [
    "%pip install scikit-learn"
   ]
  },
  {
   "cell_type": "code",
   "execution_count": 5,
   "metadata": {},
   "outputs": [],
   "source": [
    "from sklearn.model_selection import train_test_split\n",
    "texts_train, texts_test, y_train, y_test = train_test_split(texts, target, test_size=0.5, random_state=42)"
   ]
  },
  {
   "cell_type": "markdown",
   "metadata": {},
   "source": [
    "__Note:__ it is generally a good idea to split data into train/test before anything is done to them.\n",
    "\n",
    "It guards you against possible data leakage in the preprocessing stage. For example, should you decide to select words present in obscene tweets as features, you should only count those words over the training set. Otherwise your algoritm can cheat evaluation."
   ]
  },
  {
   "cell_type": "markdown",
   "metadata": {},
   "source": [
    "### Preprocessing and tokenization\n",
    "\n",
    "Comments contain raw text with punctuation, upper/lowercase letters and even newline symbols.\n",
    "\n",
    "To simplify all further steps, we'll split text into space-separated tokens using one of nltk tokenizers."
   ]
  },
  {
   "cell_type": "code",
   "execution_count": 6,
   "metadata": {},
   "outputs": [
    {
     "name": "stdout",
     "output_type": "stream",
     "text": [
      "Collecting nltk\n",
      "  Using cached nltk-3.9.1-py3-none-any.whl.metadata (2.9 kB)\n",
      "Requirement already satisfied: click in c:\\users\\gfktstv\\appdata\\local\\programs\\python\\python312\\lib\\site-packages (from nltk) (8.1.7)\n",
      "Requirement already satisfied: joblib in c:\\users\\gfktstv\\appdata\\local\\programs\\python\\python312\\lib\\site-packages (from nltk) (1.4.2)\n",
      "Requirement already satisfied: regex>=2021.8.3 in c:\\users\\gfktstv\\appdata\\local\\programs\\python\\python312\\lib\\site-packages (from nltk) (2024.9.11)\n",
      "Requirement already satisfied: tqdm in c:\\users\\gfktstv\\appdata\\local\\programs\\python\\python312\\lib\\site-packages (from nltk) (4.66.4)\n",
      "Requirement already satisfied: colorama in c:\\users\\gfktstv\\appdata\\local\\programs\\python\\python312\\lib\\site-packages (from click->nltk) (0.4.6)\n",
      "Using cached nltk-3.9.1-py3-none-any.whl (1.5 MB)\n",
      "Installing collected packages: nltk\n",
      "Successfully installed nltk-3.9.1\n",
      "Note: you may need to restart the kernel to use updated packages.\n"
     ]
    },
    {
     "name": "stderr",
     "output_type": "stream",
     "text": [
      "  WARNING: The script nltk.exe is installed in 'c:\\Users\\gfktstv\\AppData\\Local\\Programs\\Python\\Python312\\Scripts' which is not on PATH.\n",
      "  Consider adding this directory to PATH or, if you prefer to suppress this warning, use --no-warn-script-location.\n",
      "\n",
      "[notice] A new release of pip is available: 24.0 -> 24.3.1\n",
      "[notice] To update, run: python.exe -m pip install --upgrade pip\n"
     ]
    }
   ],
   "source": [
    "%pip install nltk"
   ]
  },
  {
   "cell_type": "code",
   "execution_count": 7,
   "metadata": {},
   "outputs": [
    {
     "name": "stdout",
     "output_type": "stream",
     "text": [
      "before: How to be a grown-up at work: replace \"fuck you\" with \"Ok, great!\".\n",
      "after: how to be a grown-up at work : replace \" fuck you \" with \" ok , great ! \" .\n"
     ]
    }
   ],
   "source": [
    "from nltk.tokenize import TweetTokenizer\n",
    "tokenizer = TweetTokenizer()\n",
    "preprocess = lambda text: ' '.join(tokenizer.tokenize(text.lower()))\n",
    "\n",
    "text = 'How to be a grown-up at work: replace \"fuck you\" with \"Ok, great!\".'\n",
    "print(\"before:\", text,)\n",
    "print(\"after:\", preprocess(text),)"
   ]
  },
  {
   "cell_type": "code",
   "execution_count": 8,
   "metadata": {},
   "outputs": [
    {
     "data": {
      "text/plain": [
       "'... oh and what kind of person WATCHES another persons mytalk page? Stalker!'"
      ]
     },
     "execution_count": 8,
     "metadata": {},
     "output_type": "execute_result"
    }
   ],
   "source": [
    "texts_train[0]"
   ]
  },
  {
   "cell_type": "code",
   "execution_count": 9,
   "metadata": {},
   "outputs": [],
   "source": [
    "# task: preprocess each comment in train and test\n",
    "\n",
    "texts_train = [preprocess(text) for text in texts_train]\n",
    "texts_test = [preprocess(text) for text in texts_test]"
   ]
  },
  {
   "cell_type": "code",
   "execution_count": 10,
   "metadata": {},
   "outputs": [],
   "source": [
    "assert texts_train[5] ==  'who cares anymore . they attack with impunity .'\n",
    "assert texts_test[89] == 'hey todds ! quick q ? why are you so gay'\n",
    "assert len(texts_test) == len(y_test)"
   ]
  },
  {
   "cell_type": "markdown",
   "metadata": {},
   "source": [
    "### Solving it: bag of words\n",
    "\n",
    "![img](http://www.novuslight.com/uploads/n/BagofWords.jpg)\n",
    "\n",
    "One traditional approach to such problem is to use bag of words features:\n",
    "1. build a vocabulary of frequent words (use train data only)\n",
    "2. for each training sample, count the number of times a word occurs in it (for each word in vocabulary).\n",
    "3. consider this count a feature for some classifier\n",
    "\n",
    "__Note:__ in practice, you can compute such features using sklearn. Please don't do that in the current assignment, though.\n",
    "* `from sklearn.feature_extraction.text import CountVectorizer, TfidfVectorizer`"
   ]
  },
  {
   "cell_type": "code",
   "execution_count": 12,
   "metadata": {},
   "outputs": [
    {
     "name": "stdout",
     "output_type": "stream",
     "text": [
      "example features: ['!', '12:20', '300', '_', 'adorned', 'alternative', 'archive', 'average', 'benkner', 'bout', 'came', 'chest', 'combined', 'consumers', 'cricket', 'decisions', 'dickheads', 'domestic', 'eductaion', 'essentially', 'faggot', 'firms', 'frustrated', 'goal', 'hanibal', 'hip-hop', 'identified', 'infoboxes', 'issue', 'kindergarten', 'lets', 'lot', \"mclaren's\", 'moderator', 'naturally', 'noticeable', 'opposing', 'pdf', 'plant', 'pretoria', 'punctuation', 'rebels', 'repetative', 'riadh', 'schulz', 'shes', 'slit', 'spoof', 'stupid', 't', 'theoretical', 'topic', 'uglyness', 'userspace', 'wanted', 'wikieditor', 'year', '←']\n"
     ]
    }
   ],
   "source": [
    "# task: find up to k most frequent tokens in texts_train,\n",
    "# sort them by number of occurences (highest first)\n",
    "k = 10000\n",
    "\n",
    "def tokens_counter(texts):\n",
    "    tokens_dict = dict()\n",
    "\n",
    "    for tokens in texts:\n",
    "        for token in tokens.split():\n",
    "            try:\n",
    "                tokens_dict[token] += tokens.count(token)\n",
    "            except KeyError:\n",
    "                tokens_dict[token] = 0\n",
    "                tokens_dict[token] += tokens.count(token)\n",
    "\n",
    "    bow_vocabulary = list(dict(sorted(tokens_dict.items(), key=lambda item: item[1])).keys())\n",
    "\n",
    "    return bow_vocabulary\n",
    "\n",
    "# Alternative way is to concatenate all tokens.split() and then use Counter\n",
    "\n",
    "bow_vocabulary = tokens_counter(texts_train)\n",
    "\n",
    "print('example features:', sorted(bow_vocabulary)[::100])"
   ]
  },
  {
   "cell_type": "code",
   "execution_count": 13,
   "metadata": {},
   "outputs": [],
   "source": [
    "def text_to_bow(text):\n",
    "    \"\"\" convert text string to an array of token counts. Use bow_vocabulary. \"\"\"\n",
    "    tokens = text.split()\n",
    "    bow = np.zeros(len(bow_vocabulary))\n",
    "    for token in tokens:\n",
    "        try:\n",
    "            token_index = bow_vocabulary.index(token)\n",
    "            bow[token_index] += 1\n",
    "        except ValueError:\n",
    "            pass\n",
    "\n",
    "    return bow"
   ]
  },
  {
   "cell_type": "code",
   "execution_count": 14,
   "metadata": {},
   "outputs": [],
   "source": [
    "X_train_bow = np.stack(list(map(text_to_bow, texts_train)))\n",
    "X_test_bow = np.stack(list(map(text_to_bow, texts_test)))"
   ]
  },
  {
   "cell_type": "code",
   "execution_count": 15,
   "metadata": {},
   "outputs": [],
   "source": [
    "k_max = len(set(' '.join(texts_train).split()))\n",
    "assert X_train_bow.shape == (len(texts_train), min(k, k_max))\n",
    "assert X_test_bow.shape == (len(texts_test), min(k, k_max))\n",
    "assert np.all(X_train_bow[5:10].sum(-1) == np.array([len(s.split()) for s in  texts_train[5:10]]))\n",
    "assert len(bow_vocabulary) <= min(k, k_max)\n",
    "assert X_train_bow[6, bow_vocabulary.index('.')] == texts_train[6].split().count('.')"
   ]
  },
  {
   "cell_type": "markdown",
   "metadata": {},
   "source": [
    "__Naive bayes:__ perhaps the simplest model that can solve your problem is the so called Naive Bayes Classifier. \n",
    "Its a trivial linear model that assumes the independence of input features and computes the coefficients by, well, counting probabilities.\n",
    "\n",
    "If you don't remember the math behind Naive Bayes, read [this chunk](https://lena-voita.github.io/nlp_course/text_classification.html#naive_bayes) to help refresh your memory. Done? Good! Now let's implement that :)"
   ]
  },
  {
   "cell_type": "code",
   "execution_count": 38,
   "metadata": {},
   "outputs": [],
   "source": [
    "class BinaryNaiveBayes:\n",
    "    delta = 1.0  # add this to all word counts to smoothe probabilities\n",
    "    \n",
    "    def fit(self, X, y):\n",
    "        \"\"\"\n",
    "        Fit a NaiveBayes classifier for two classes\n",
    "        :param X: [batch_size, vocab_size] of bag-of-words features\n",
    "        :param y: [batch_size] of binary targets {0, 1}\n",
    "        \"\"\"\n",
    "        # first, compute marginal probabilities of every class, p(y=k) for k = 0,1\n",
    "        self.p_y = np.array([len(y_train[y_train==0])/len(y_train), len(y_train[y_train==1])/len(y_train)])\n",
    "        \n",
    "        # count occurences of each word in texts with label 1 and label 0 separately\n",
    "        pos_str_texts_train = ' '.join(np.array(texts_train)[y_train==1])\n",
    "        neg_str_texts_train = ' '.join(np.array(texts_train)[y_train==0])\n",
    "        word_counts_positive = [pos_str_texts_train.count(word) + 1.0 for word in bow_vocabulary]\n",
    "        word_counts_negative = [neg_str_texts_train.count(word) + 1.0 for word in bow_vocabulary]\n",
    "        # ^-- both must be vectors of shape [vocab_size].\n",
    "        \n",
    "        # finally, lets use those counts to estimate p(x | y = k) for k = 0, 1\n",
    "        \n",
    "        #<YOUR CODE HERE>\n",
    "        self.p_x_given_positive = np.array([word_count/np.sum(word_counts_positive) for word_count in word_counts_positive])\n",
    "        self.p_x_given_negative = np.array([word_count/np.sum(word_counts_negative) for word_count in word_counts_negative])\n",
    "        # both must be of shape [vocab_size]; and don't forget to add self.delta!\n",
    "        \n",
    "        return self\n",
    "    \n",
    "    def predict_scores(self, X):\n",
    "        \"\"\"\n",
    "        :param X: [batch_size, vocab_size] of bag-of-words features\n",
    "        :returns: a matrix of scores [batch_size, k] of scores for k-th class\n",
    "        \"\"\"\n",
    "        # compute scores for positive and negative classes separately.\n",
    "        # these scores should be proportional to log-probabilities of the respective target {0, 1}\n",
    "        # note: if you apply logarithm to p_x_given_*, the total log-probability can be written\n",
    "        # as a dot-product with X\n",
    "        score_negative = [np.sum([np.log(self.p_x_given_negative[i]) for i in range(len(batch)) if batch[i] >= 1]) for batch in X]\n",
    "        score_positive = [np.sum([np.log(self.p_x_given_positive[i]) for i in range(len(batch)) if batch[i] >= 1]) for batch in X]\n",
    "        \n",
    "        # you can compute total p(x | y=k) with a dot product\n",
    "        return np.stack([score_negative, score_positive], axis=-1)\n",
    "    \n",
    "    def predict(self, X):\n",
    "        return self.predict_scores(X).argmax(axis=-1)"
   ]
  },
  {
   "cell_type": "code",
   "execution_count": 67,
   "metadata": {},
   "outputs": [],
   "source": [
    "class BinaryNaiveBayes:\n",
    "    delta = 1.0  # add this to all word counts to smoothe probabilities\n",
    "    \n",
    "    def fit(self, X, y):\n",
    "        \"\"\"\n",
    "        Fit a NaiveBayes classifier for two classes\n",
    "        :param X: [batch_size, vocab_size] of bag-of-words features\n",
    "        :param y: [batch_size] of binary targets {0, 1}\n",
    "        \"\"\"\n",
    "        # first, compute marginal probabilities of every class, p(y=k) for k = 0,1\n",
    "        self.p_y = np.array([len(y_train[y_train==0])/len(y_train), len(y_train[y_train==1])/len(y_train)])\n",
    "        \n",
    "        # count occurences of each word in texts with label 1 and label 0 separately\n",
    "        positive_texts = X[y==1]\n",
    "        negative_texts = X[y==0]\n",
    "        word_counts_positive = np.sum(positive_texts, axis=0)\n",
    "        word_counts_negative = np.sum(negative_texts, axis=0)\n",
    "        # ^-- both must be vectors of shape [vocab_size].\n",
    "        \n",
    "        # finally, lets use those counts to estimate p(x | y = k) for k = 0, 1\n",
    "        \n",
    "        #<YOUR CODE HERE>\n",
    "        self.p_x_given_positive = np.array([(self.delta + word_count)/(self.delta * len(X[0]) + np.sum(word_counts_positive)) for word_count in word_counts_positive])\n",
    "        self.p_x_given_negative = np.array([(self.delta + word_count)/(self.delta * len(X[0]) + np.sum(word_counts_negative)) for word_count in word_counts_negative])\n",
    "        # both must be of shape [vocab_size]; and don't forget to add self.delta!\n",
    "        \n",
    "        return self\n",
    "    \n",
    "    def predict_scores(self, X):\n",
    "        \"\"\"\n",
    "        :param X: [batch_size, vocab_size] of bag-of-words features\n",
    "        :returns: a matrix of scores [batch_size, k] of scores for k-th class\n",
    "        \"\"\"\n",
    "        # compute scores for positive and negative classes separately.\n",
    "        # these scores should be proportional to log-probabilities of the respective target {0, 1}\n",
    "        # note: if you apply logarithm to p_x_given_*, the total log-probability can be written\n",
    "        # as a dot-product with X\n",
    "        score_negative = [np.sum([np.log(self.p_x_given_negative[i]) for i in range(len(batch)) if batch[i] >= 1]) for batch in X]\n",
    "        score_positive = [np.sum([np.log(self.p_x_given_positive[i]) for i in range(len(batch)) if batch[i] >= 1]) for batch in X]\n",
    "        \n",
    "        # you can compute total p(x | y=k) with a dot product\n",
    "        return np.stack([score_negative, score_positive], axis=-1)\n",
    "    \n",
    "    def predict(self, X):\n",
    "        return self.predict_scores(X).argmax(axis=-1)"
   ]
  },
  {
   "cell_type": "code",
   "execution_count": 37,
   "metadata": {},
   "outputs": [
    {
     "name": "stdout",
     "output_type": "stream",
     "text": [
      "5370 2848130\n"
     ]
    }
   ],
   "source": [
    "k1 = 0\n",
    "k2 = 0\n",
    "for i in range(len(X_train_bow)):\n",
    "    for count in X_train_bow[i]:\n",
    "        if count > 1:\n",
    "            k1 += 1\n",
    "        else:\n",
    "            k2 += 1\n",
    "print(k1, k2)"
   ]
  },
  {
   "cell_type": "code",
   "execution_count": 68,
   "metadata": {},
   "outputs": [],
   "source": [
    "naive_model = BinaryNaiveBayes().fit(X_train_bow, y_train)"
   ]
  },
  {
   "cell_type": "code",
   "execution_count": 69,
   "metadata": {},
   "outputs": [],
   "source": [
    "assert naive_model.p_y.shape == (2,) and naive_model.p_y.sum() == 1 and naive_model.p_y[0] > naive_model.p_y[1]\n",
    "assert naive_model.p_x_given_positive.shape == naive_model.p_x_given_negative.shape == X_train_bow.shape[1:]\n",
    "assert np.allclose(naive_model.p_x_given_positive.sum(), 1.0)\n",
    "assert np.allclose(naive_model.p_x_given_negative.sum(), 1.0)\n",
    "assert naive_model.p_x_given_negative.min() > 0, \"did you forget to add delta?\"\n",
    "\n",
    "f_index = bow_vocabulary.index('fuck')  # offensive tweets should contain more of this\n",
    "assert naive_model.p_x_given_positive[f_index] > naive_model.p_x_given_negative[f_index]\n",
    "\n",
    "g_index = bow_vocabulary.index('good')  # offensive tweets should contain less of this\n",
    "assert naive_model.p_x_given_positive[g_index] < naive_model.p_x_given_negative[g_index]"
   ]
  },
  {
   "cell_type": "code",
   "execution_count": 62,
   "metadata": {},
   "outputs": [
    {
     "data": {
      "text/plain": [
       "np.float64(0.8043873179091687)"
      ]
     },
     "execution_count": 62,
     "metadata": {},
     "output_type": "execute_result"
    }
   ],
   "source": [
    "naive_model.p_x_given_negative.sum()"
   ]
  },
  {
   "cell_type": "code",
   "execution_count": null,
   "metadata": {},
   "outputs": [],
   "source": [
    "#score_negative = np.sum(np.array(list(map(np.log, self.p_x_given_negative))))\n",
    "#        score_positive = np.sum(np.array(list(map(np.log, self.p_x_given_positive))))"
   ]
  },
  {
   "cell_type": "code",
   "execution_count": 70,
   "metadata": {},
   "outputs": [
    {
     "name": "stdout",
     "output_type": "stream",
     "text": [
      "Model accuracy: 0.768\n",
      "Well done!\n"
     ]
    },
    {
     "data": {
      "image/png": "[encoded data removed]",
      "text/plain": [
       "<Figure size 640x480 with 1 Axes>"
      ]
     },
     "metadata": {},
     "output_type": "display_data"
    }
   ],
   "source": [
    "from sklearn.metrics import roc_auc_score, roc_curve\n",
    "\n",
    "for name, X, y, model in [\n",
    "    ('train', X_train_bow, y_train, naive_model),\n",
    "    ('test ', X_test_bow, y_test, naive_model)\n",
    "]:\n",
    "    proba = model.predict_scores(X)[:, 1] - model.predict_scores(X)[:, 0]\n",
    "    auc = roc_auc_score(y, proba)\n",
    "    plt.plot(*roc_curve(y, proba)[:2], label='%s AUC=%.4f' % (name, auc))\n",
    "\n",
    "plt.plot([0, 1], [0, 1], '--', color='black',)\n",
    "plt.legend(fontsize='large')\n",
    "plt.grid()\n",
    "\n",
    "test_accuracy = np.mean(naive_model.predict(X_test_bow) == y_test)\n",
    "print(f\"Model accuracy: {test_accuracy:.3f}\")\n",
    "assert test_accuracy > 0.75, \"Accuracy too low. There's likely a mistake in the code.\"\n",
    "print(\"Well done!\")"
   ]
  },
  {
   "cell_type": "markdown",
   "metadata": {},
   "source": [
    "Okay, it definitely learned *something*. Now let's figure out what exactly it learned. The simplest way to do that is by highlighting which words have a greatest ratio of positive to negative probability or vice versa. We'll go with the positive one [because reasons](https://www.urbandictionary.com/define.php?term=because%20reasons).\n",
    "\n",
    "__Your task__ is to compute top-25 words that have the __highest__ ratio of ${p(x_i | y=1)} \\over {p(x_i | y=0)}$. Enjoy!"
   ]
  },
  {
   "cell_type": "code",
   "execution_count": 71,
   "metadata": {},
   "outputs": [
    {
     "name": "stdout",
     "output_type": "stream",
     "text": [
      "['scientific' 'beautiful' '@' 'idiot' 'hit' 'bastard' 'u' 'asshole' '*'\n",
      " 'college' '=' 'stupid' 'ass' 'fucking' 'slap' 'shit' 'fuck' 'bitch'\n",
      " 'fggt' 'dick' 'j.delanoy' 'nigger' 'suck' 'offfuck' 'heil']\n",
      "#0\tscientific\t(ratio=12.222967028363149)\n",
      "#1\t beautiful\t(ratio=12.222967028363149)\n",
      "#2\t         @\t(ratio=13.445263731199464)\n",
      "#3\t     idiot\t(ratio=13.445263731199464)\n",
      "#4\t       hit\t(ratio=14.66756043403578)\n",
      "#5\t   bastard\t(ratio=14.66756043403578)\n",
      "#6\t         u\t(ratio=15.278708785453937)\n",
      "#7\t   asshole\t(ratio=15.889857136872093)\n",
      "#8\t         *\t(ratio=17.11215383970841)\n",
      "#9\t   college\t(ratio=17.11215383970841)\n",
      "#10\t         =\t(ratio=17.53995768570112)\n",
      "#11\t    stupid\t(ratio=18.334450542544726)\n",
      "#12\t       ass\t(ratio=26.89052746239893)\n",
      "#13\t   fucking\t(ratio=31.779714273744187)\n",
      "#14\t      slap\t(ratio=44.00268130210734)\n",
      "#15\t      shit\t(ratio=44.00268130210734)\n",
      "#16\t      fuck\t(ratio=53.78105492479786)\n",
      "#17\t     bitch\t(ratio=59.89253843897943)\n",
      "#18\t      fggt\t(ratio=97.78373622690519)\n",
      "#19\t      dick\t(ratio=187.01139553395618)\n",
      "#20\t j.delanoy\t(ratio=220.0134065105367)\n",
      "#21\t    nigger\t(ratio=223.68029661904563)\n",
      "#22\t      suck\t(ratio=314.7414009803511)\n",
      "#23\t   offfuck\t(ratio=441.24910972390967)\n",
      "#24\t      heil\t(ratio=471.80652729481756)\n"
     ]
    }
   ],
   "source": [
    "# hint: use naive_model.p_*\n",
    "probability_ratio = naive_model.p_x_given_positive / naive_model.p_x_given_negative\n",
    "top_negative_words = np.array(bow_vocabulary)[np.argsort(probability_ratio)][-26:-1]\n",
    "\n",
    "print(top_negative_words)\n",
    "\n",
    "assert len(top_negative_words) == 25 and [isinstance(w, str) for w in top_negative_words]\n",
    "assert 'j.delanoy' in top_negative_words and 'college' in top_negative_words\n",
    "\n",
    "for i, word in enumerate(top_negative_words):\n",
    "    print(f\"#{i}\\t{word.rjust(10, ' ')}\\t(ratio={probability_ratio[bow_vocabulary.index(word)]})\")"
   ]
  },
  {
   "cell_type": "markdown",
   "metadata": {},
   "source": [
    "Now lets try something less prehistoric: __Logistic Regression__. Turns out, if you're using silicon instead of an abacus, you can find model weights by optimizing the log-probability of the answer. Though, of course, you don't even need to write it by hand anymore. Let's sklearn it!"
   ]
  },
  {
   "cell_type": "code",
   "execution_count": 120,
   "metadata": {},
   "outputs": [],
   "source": [
    "from sklearn.linear_model import LogisticRegression\n",
    "bow_model = LogisticRegression(C=0.19).fit(X_train_bow, y_train)"
   ]
  },
  {
   "cell_type": "code",
   "execution_count": 121,
   "metadata": {},
   "outputs": [
    {
     "name": "stdout",
     "output_type": "stream",
     "text": [
      "Model accuracy: 0.772\n",
      "Well done!\n"
     ]
    },
    {
     "data": {
      "image/png": "[encoded data removed]",
      "text/plain": [
       "<Figure size 640x480 with 1 Axes>"
      ]
     },
     "metadata": {},
     "output_type": "display_data"
    }
   ],
   "source": [
    "from sklearn.metrics import roc_auc_score, roc_curve\n",
    "\n",
    "for name, X, y, model in [\n",
    "    ('train', X_train_bow, y_train, bow_model),\n",
    "    ('test ', X_test_bow, y_test, bow_model)\n",
    "]:\n",
    "    proba = model.predict_proba(X)[:, 1]\n",
    "    auc = roc_auc_score(y, proba)\n",
    "    plt.plot(*roc_curve(y, proba)[:2], label='%s AUC=%.4f' % (name, auc))\n",
    "\n",
    "plt.plot([0, 1], [0, 1], '--', color='black',)\n",
    "plt.legend(fontsize='large')\n",
    "plt.grid()\n",
    "\n",
    "test_accuracy = np.mean(bow_model.predict(X_test_bow) == y_test)\n",
    "print(f\"Model accuracy: {test_accuracy:.3f}\")\n",
    "assert test_accuracy > 0.77, \"Hint: tune the parameter C to improve performance\"\n",
    "print(\"Well done!\")"
   ]
  },
  {
   "cell_type": "markdown",
   "metadata": {},
   "source": [
    "### Task: implement TF-IDF features\n",
    "\n",
    "Not all words are equally useful. One can prioritize rare words and downscale words like \"and\"/\"or\" by using __tf-idf features__. This abbreviation stands for __text frequency/inverse document frequence__ and means exactly that:\n",
    "\n",
    "$$ feature_i = { Count(word_i \\in x) \\times { log {N \\over Count(word_i \\in D) + \\alpha} }} $$\n",
    "\n",
    "\n",
    ", where x is a single text, D is your dataset (a collection of texts), N is a total number of documents and $\\alpha$ is a smoothing hyperparameter (typically 1). \n",
    "And $Count(word_i \\in D)$ is the number of documents where $word_i$ appears.\n",
    "\n",
    "It may also be a good idea to normalize each data sample after computing tf-idf features.\n",
    "\n",
    "__Your task:__ implement tf-idf features, train a model and evaluate ROC curve. Compare it with basic BagOfWords model from above.\n",
    "\n",
    "Please don't use sklearn/nltk builtin tf-idf vectorizers in your solution :) You can still use 'em for debugging though."
   ]
  },
  {
   "cell_type": "code",
   "execution_count": null,
   "metadata": {},
   "outputs": [],
   "source": []
  },
  {
   "cell_type": "markdown",
   "metadata": {},
   "source": [
    "```\n",
    "\n",
    "```\n",
    "\n",
    "```\n",
    "\n",
    "```\n",
    "\n",
    "```\n",
    "\n",
    "```\n",
    "\n",
    "```\n",
    "\n",
    "```\n",
    "\n",
    "```\n",
    "\n",
    "```\n",
    "\n",
    "```\n",
    "\n",
    "```\n",
    "\n",
    "```\n",
    "\n",
    "```\n",
    "\n",
    "```\n",
    "\n",
    "```\n",
    "\n",
    "\n",
    "### Solving it better: word vectors\n",
    "\n",
    "Let's try another approach: instead of counting per-word frequencies, we shall map all words to pre-trained word vectors and average over them to get text features.\n",
    "\n",
    "This should give us two key advantages: (1) we now have 10^2 features instead of 10^4 and (2) our model can generalize to word that are not in training dataset.\n",
    "\n",
    "We begin with a standard approach with pre-trained word vectors. However, you may also try\n",
    "* training embeddings from scratch on relevant (unlabeled) data\n",
    "* multiplying word vectors by inverse word frequency in dataset (like tf-idf).\n",
    "* concatenating several embeddings\n",
    "    * call `gensim.downloader.info()['models'].keys()` to get a list of available models\n",
    "* clusterizing words by their word-vectors and try bag of cluster_ids\n",
    "\n",
    "__Note:__ loading pre-trained model may take a while. It's a perfect opportunity to refill your cup of tea/coffee and grab some extra cookies. Or binge-watch some tv series if you're slow on internet connection"
   ]
  },
  {
   "cell_type": "code",
   "execution_count": null,
   "metadata": {
    "collapsed": true,
    "jupyter": {
     "outputs_hidden": true
    }
   },
   "outputs": [],
   "source": [
    "import gensim.downloader \n",
    "embeddings = gensim.downloader.load(\"fasttext-wiki-news-subwords-300\")\n",
    "\n",
    "# If you're low on RAM or download speed, use \"glove-wiki-gigaword-100\" instead. Ignore all further asserts."
   ]
  },
  {
   "cell_type": "code",
   "execution_count": null,
   "metadata": {
    "collapsed": true,
    "jupyter": {
     "outputs_hidden": true
    }
   },
   "outputs": [],
   "source": [
    "def vectorize_sum(comment):\n",
    "    \"\"\"\n",
    "    implement a function that converts preprocessed comment to a sum of token vectors\n",
    "    \"\"\"\n",
    "    embedding_dim = embeddings.wv.vectors.shape[1]\n",
    "    features = np.zeros([embedding_dim], dtype='float32')\n",
    "    \n",
    "    <YOUR CODE>\n",
    "    \n",
    "    return features\n",
    "\n",
    "assert np.allclose(\n",
    "    vectorize_sum(\"who cares anymore . they attack with impunity .\")[::70],\n",
    "    np.array([ 0.0108616 ,  0.0261663 ,  0.13855131, -0.18510573, -0.46380025])\n",
    ")"
   ]
  },
  {
   "cell_type": "code",
   "execution_count": null,
   "metadata": {
    "collapsed": true,
    "jupyter": {
     "outputs_hidden": true
    }
   },
   "outputs": [],
   "source": [
    "X_train_wv = np.stack([vectorize_sum(text) for text in texts_train])\n",
    "X_test_wv = np.stack([vectorize_sum(text) for text in texts_test])"
   ]
  },
  {
   "cell_type": "code",
   "execution_count": null,
   "metadata": {},
   "outputs": [
    {
     "data": {
      "image/png": "[encoded data removed]",
      "text/plain": [
       "<matplotlib.figure.Figure at 0x7fc2d6dba550>"
      ]
     },
     "metadata": {},
     "output_type": "display_data"
    }
   ],
   "source": [
    "wv_model = LogisticRegression().fit(X_train_wv, y_train)\n",
    "\n",
    "for name, X, y, model in [\n",
    "    ('bow train', X_train_bow, y_train, bow_model),\n",
    "    ('bow test ', X_test_bow, y_test, bow_model),\n",
    "    ('vec train', X_train_wv, y_train, wv_model),\n",
    "    ('vec test ', X_test_wv, y_test, wv_model)\n",
    "]:\n",
    "    proba = model.predict_proba(X)[:, 1]\n",
    "    auc = roc_auc_score(y, proba)\n",
    "    plt.plot(*roc_curve(y, proba)[:2], label='%s AUC=%.4f' % (name, auc))\n",
    "\n",
    "plt.plot([0, 1], [0, 1], '--', color='black',)\n",
    "plt.legend(fontsize='large')\n",
    "plt.grid()\n",
    "\n",
    "assert roc_auc_score(y_test, wv_model.predict_proba(X_test_wv)[:, 1]) > 0.92, \"something's wrong with your features\""
   ]
  },
  {
   "cell_type": "markdown",
   "metadata": {},
   "source": [
    "If everything went right, you've just managed to reduce misclassification rate by a factor of two.\n",
    "This trick is very useful when you're dealing with small datasets. However, if you have hundreds of thousands of samples, there's a whole different range of methods for that. We'll get there in the second part."
   ]
  }
 ],
 "metadata": {
  "kernelspec": {
   "display_name": "Python 3",
   "language": "python",
   "name": "python3"
  },
  "language_info": {
   "codemirror_mode": {
    "name": "ipython",
    "version": 3
   },
   "file_extension": ".py",
   "mimetype": "text/x-python",
   "name": "python",
   "nbconvert_exporter": "python",
   "pygments_lexer": "ipython3",
   "version": "3.12.2"
  }
 },
 "nbformat": 4,
 "nbformat_minor": 4
}
